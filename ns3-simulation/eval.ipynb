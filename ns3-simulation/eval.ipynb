{
 "nbformat": 4,
 "nbformat_minor": 2,
 "metadata": {
  "language_info": {
   "name": "python",
   "codemirror_mode": {
    "name": "ipython",
    "version": 2
   },
   "version": "3.6.9-final"
  },
  "orig_nbformat": 2,
  "file_extension": ".py",
  "mimetype": "text/x-python",
  "name": "python",
  "npconvert_exporter": "python",
  "pygments_lexer": "ipython2",
  "version": 2,
  "kernelspec": {
   "name": "python36964bitf5a56d9885df433a9a594ac7185d3293",
   "display_name": "Python 3.6.9 64-bit"
  }
 },
 "cells": [
  {
   "cell_type": "code",
   "execution_count": null,
   "metadata": {},
   "outputs": [],
   "source": [
    "import pandas as pd\n",
    "from matplotlib import pyplot as plt\n",
    "import numpy as np"
   ]
  },
  {
   "cell_type": "code",
   "execution_count": null,
   "metadata": {},
   "outputs": [],
   "source": [
    "intervals = [0.01, 0.05, 0.1, 0.5, 1]\n",
    "burstsize = 4 \n",
    "\n",
    "fig, ax = plt.subplots(figsize=(16, 10))\n",
    "\n",
    "#df_delay = pd.read_csv(\"delays.csv\", names=[\"t\", \"delay\"])\n",
    "#df_delay[\"rtt\"] = 2 * df_delay[\"delay\"]\n",
    "#df_delay.rolling(10).median().plot(x='t', y='rtt', color='lightgray', ax=ax)\n",
    "\n",
    "for interval in intervals:\n",
    "#for burstsize in [1, 2, 3, 4,5, 6, 7, 10]:\n",
    "    params = (interval, burstsize)\n",
    "    df = pd.read_csv(\"rtt[%s,%s].csv\" % params, names=[\"t\", \"burst\", \"rtt\"])\n",
    "    df = df.groupby(\"burst\").median()\n",
    "    df_delay = pd.read_csv(\"delays[%s,%s].csv\" % params, names=[\"t\", \"delay\"])\n",
    "    \n",
    "    baseline = 2 * np.interp(df['t'], df_delay['t'], df_delay['delay'])\n",
    "    df[\"error\"] = df['rtt'] - baseline\n",
    "    df.plot(x='t', y='error', ax=ax, label=str(interval))\n",
    "\n",
    "fig.tight_layout()\n",
    "ax.legend()\n",
    "plt.show()"
   ]
  },
  {
   "cell_type": "code",
   "execution_count": null,
   "metadata": {},
   "outputs": [],
   "source": [
    "burstsizes = [1, 2, 5, 10, 20]\n",
    "burstsizes = [1, 4, 10]\n",
    "interval = 0.1\n",
    "\n",
    "def plot_rtt(df, ax, label, window=1):\n",
    "    df = df.groupby(\"burst\").agg([\"median\", 'min', 'max'])\n",
    "    t = df[('t', 'max')]\n",
    "    rtt = df[('rtt', 'median')]\n",
    "    rtt_min = df[('rtt', 'min')]\n",
    "    rtt_max = df[('rtt', 'max')]\n",
    "\n",
    "    lines = ax.plot(t, rtt, label=str(label))\n",
    "    color = lines[0].get_color()\n",
    "    ax.fill_between(t, rtt_min, rtt_max, color=color, alpha=0.2)\n",
    "\n",
    "\n",
    "fig, ax = plt.subplots(figsize=(16, 10))\n",
    "\n",
    "# Plot actual delay measurements in the background\n",
    "df_delay = pd.read_csv(\"delays.csv\", names=[\"t\", \"delay\"])\n",
    "# Filter away startup phase\n",
    "df_delay = df_delay[df_delay['t'] > 2.5]\n",
    "df_delay[\"rtt\"] = 2 * df_delay[\"delay\"]\n",
    "df_delay.rolling(10).median().plot(x='t', y='rtt', color='lightgray', ax=ax)\n",
    "\n",
    "\n",
    "\n",
    "for burstsize in burstsizes:\n",
    "    df = pd.read_csv(\"rtt[%s,%s].csv\" % (interval, burstsize),\n",
    "                     names=[\"t\", \"burst\", \"rtt\"])\n",
    "            \n",
    "    # Filter away startup phase\n",
    "    df = df[df['t'] > 2.5]\n",
    "    \n",
    "    plot_rtt(df, ax, burstsize)\n",
    "\n",
    "\n",
    "fig.tight_layout()\n",
    "ax.legend()\n",
    "plt.show()"
   ]
  },
  {
   "cell_type": "code",
   "execution_count": null,
   "metadata": {},
   "outputs": [],
   "source": [
    "def mse(burstsize, interval=0.1, metric='median', df_delay=df_delay):\n",
    "    df_delay = pd.read_csv(\"delays[%s,%s].csv\" % (interval, burstsize),\n",
    "                           names=[\"t\", \"delay\"])\n",
    "    df_delay[\"rtt\"] = 2 * df_delay[\"delay\"]\n",
    "\n",
    "    df = pd.read_csv(\"rtt[%s,%s].csv\" % (interval, burstsize),\n",
    "                     names=[\"t\", \"burst\", \"rtt\"])\n",
    "    df = df[df['t'] > 2.5]\n",
    "\n",
    "    df = df.groupby(\"burst\").agg([metric, 'min', 'max'])\n",
    "    ground_truth = np.interp(df[('t', 'max')], df_delay['t'], df_delay['rtt'])\n",
    "    measures = df[('rtt', metric)]\n",
    "    return np.sqrt(np.sum(np.power(measures - ground_truth, 2)))\n",
    "\n",
    "burstsizes = [1, 2, 3, 4, 5, 6, 7, 10]\n",
    "errors = [mse(bs, metric='median') for bs in burstsizes]\n",
    "plt.plot(burstsizes, errors)\n",
    "plt.show()"
   ]
  },
  {
   "cell_type": "code",
   "execution_count": null,
   "metadata": {},
   "outputs": [],
   "source": []
  }
 ]
}