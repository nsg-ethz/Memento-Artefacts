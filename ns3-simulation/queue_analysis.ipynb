{
 "cells": [
  {
   "cell_type": "code",
   "execution_count": null,
   "metadata": {},
   "outputs": [],
   "source": [
    "import pandas as pd\n",
    "import seaborn as sns"
   ]
  },
  {
   "cell_type": "code",
   "execution_count": null,
   "metadata": {},
   "outputs": [],
   "source": [
    "vals = [50, 70, 90]  #[60, 80, 100, 120]"
   ]
  },
  {
   "cell_type": "code",
   "execution_count": null,
   "metadata": {},
   "outputs": [],
   "source": [
    "frame = pd.read_csv(f\"{vals[0]}.csv\", names=[\"t\", \"delay\", \"size\", \"wl\", \"app\"])\n",
    "sns.displot(\n",
    "    data=frame,\n",
    "    kind='ecdf',\n",
    "    x=\"size\",\n",
    "    hue=\"wl\"\n",
    ").set(\n",
    "    ylim=(0, 0.6)\n",
    ");"
   ]
  },
  {
   "cell_type": "code",
   "execution_count": null,
   "metadata": {},
   "outputs": [],
   "source": [
    "bottleneck = '/NodeList/0/DeviceList/0/$ns3::CsmaNetDevice/TxQueue/PacketsInQueue'"
   ]
  },
  {
   "cell_type": "code",
   "execution_count": null,
   "metadata": {},
   "outputs": [],
   "source": [
    "def plot_bottleneck(filename):\n",
    "    \"\"\"Plot the bottleneck queue.\"\"\"\n",
    "    queuesize = pd.read_csv(filename, names=[\"node\", 'time', \"queue\"])\n",
    "    bottleneck_queuesize = queuesize[queuesize['node'] == bottleneck]\n",
    "\n",
    "    bottleneck_queuesize.plot(x=\"time\", y=\"queue\", legend=False, title=bottleneck)"
   ]
  },
  {
   "cell_type": "code",
   "execution_count": null,
   "metadata": {},
   "outputs": [],
   "source": [
    "for val in vals:\n",
    "    plot_bottleneck(f\"{val}_queue.csv\")"
   ]
  },
  {
   "cell_type": "code",
   "execution_count": null,
   "metadata": {},
   "outputs": [],
   "source": [
    "frames = []\n",
    "names = [\"node\", 'time', \"queue\"]\n",
    "for val in vals:\n",
    "    frames.append(\n",
    "        pd.read_csv(f\"{val}_queue.csv\", names=names).assign(load=val)\n",
    "    )\n",
    "all_frames = pd.concat(frames, ignore_index=True)\n",
    "\n",
    "all_frames = all_frames[all_frames['node'] == bottleneck].drop(columns=['node'])\n",
    "\n",
    "(\n",
    "    all_frames\n",
    "    .groupby(\"load\")\n",
    "    ['queue']\n",
    "    .describe()\n",
    ")\n"
   ]
  },
  {
   "cell_type": "code",
   "execution_count": null,
   "metadata": {},
   "outputs": [],
   "source": [
    "frames = []\n",
    "names = [\"t\", \"delay\", \"size\", \"workload\", \"app\"]\n",
    "for val in vals:\n",
    "    frames.append(\n",
    "        pd.read_csv(f\"{val}.csv\", names=names).assign(load=val)\n",
    "    )\n",
    "all_frames = pd.concat(frames, ignore_index=True)\n",
    "\n",
    "(\n",
    "    all_frames\n",
    "    #.transform(lambda df: df * 1000) # s to ms\n",
    "    .groupby(\"load\")\n",
    "    ['delay']\n",
    "    .describe()\n",
    ")\n"
   ]
  },
  {
   "cell_type": "code",
   "execution_count": null,
   "metadata": {},
   "outputs": [],
   "source": [
    "(all_frames.groupby('load')['size'].sum()) * 8 / 59 / 1024 / 1024"
   ]
  }
 ],
 "metadata": {
  "kernelspec": {
   "display_name": "Python 3.9.7 ('env': venv)",
   "language": "python",
   "name": "python3"
  },
  "language_info": {
   "codemirror_mode": {
    "name": "ipython",
    "version": 3
   },
   "file_extension": ".py",
   "mimetype": "text/x-python",
   "name": "python",
   "nbconvert_exporter": "python",
   "pygments_lexer": "ipython3",
   "version": "3.9.13"
  },
  "orig_nbformat": 4,
  "vscode": {
   "interpreter": {
    "hash": "3134e78a43b5262b70c9cd1c4d59d2b62465a2042af3f2695833f628862b2d5c"
   }
  }
 },
 "nbformat": 4,
 "nbformat_minor": 2
}
