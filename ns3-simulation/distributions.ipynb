{
 "metadata": {
  "language_info": {
   "codemirror_mode": {
    "name": "ipython",
    "version": 3
   },
   "file_extension": ".py",
   "mimetype": "text/x-python",
   "name": "python",
   "nbconvert_exporter": "python",
   "pygments_lexer": "ipython3",
   "version": "3.6.9-final"
  },
  "orig_nbformat": 2,
  "kernelspec": {
   "name": "python3",
   "display_name": "Python 3.6.9 64-bit ('env': venv)",
   "metadata": {
    "interpreter": {
     "hash": "f10fdb86cbb1218a3a0bc14e9bdff9964beae14fbec26f0aff5784a834c11eae"
    }
   }
  }
 },
 "nbformat": 4,
 "nbformat_minor": 2,
 "cells": [
  {
   "source": [
    "# Workload distributions"
   ],
   "cell_type": "markdown",
   "metadata": {}
  },
  {
   "cell_type": "code",
   "execution_count": null,
   "metadata": {},
   "outputs": [],
   "source": [
    "from pathlib import Path\n",
    "import matplotlib as mpl\n",
    "from matplotlib import pyplot as plt\n",
    "import seaborn as sns"
   ]
  },
  {
   "cell_type": "code",
   "execution_count": null,
   "metadata": {},
   "outputs": [],
   "source": [
    "sns.set(\"paper\")\n",
    "sns.set_style(\"whitegrid\")\n",
    "mpl.rcParams.update({\n",
    "    'text.usetex': False,\n",
    "    'font.family': 'serif',\n",
    "    'text.latex.preamble': [\n",
    "        r'\\usepackage{amsmath,amssymb}',\n",
    "    ],\n",
    "\n",
    "    'lines.linewidth': 1.5,\n",
    "    'lines.markeredgewidth': 0,\n",
    "\n",
    "    'scatter.marker': '.',\n",
    "    'scatter.edgecolors': 'none',\n",
    "\n",
    "    'savefig.dpi': 300,\n",
    "})"
   ]
  },
  {
   "cell_type": "code",
   "execution_count": null,
   "metadata": {},
   "outputs": [],
   "source": [
    "basedir = Path('distributions')\n",
    "w1 = basedir / \"Facebook_WebServerDist_IntraCluster.txt\"\n",
    "w2 = basedir / \"DCTCP_MsgSizeDist.txt\"\n",
    "w3 = basedir / \"Facebook_HadoopDist_All.txt\"\n"
   ]
  },
  {
   "cell_type": "code",
   "execution_count": null,
   "metadata": {},
   "outputs": [],
   "source": [
    "def load_dist(filename):\n",
    "    x, y = [], []\n",
    "    with open(filename) as file:\n",
    "        # First line is average size, skip.\n",
    "        for line in file.readlines()[1:]:\n",
    "            _x, _y = line.split()\n",
    "            x.append(float(_x))\n",
    "            y.append(float(_y))\n",
    "    return x, y\n",
    "        "
   ]
  },
  {
   "cell_type": "code",
   "execution_count": null,
   "metadata": {},
   "outputs": [],
   "source": [
    "fig, ax = plt.subplots(figsize=(3.5, 2))\n",
    "\n",
    "ax.plot(*load_dist(w1), label=\"W1\")\n",
    "ax.plot(*load_dist(w2), label=\"W2\")\n",
    "ax.plot(*load_dist(w3), label=\"W3\")\n",
    "\n",
    "\n",
    "ax.set(\n",
    "    xlim=(1e0, 1e7),\n",
    "    ylim=(0, 1),\n",
    "    xscale='log',\n",
    "    xlabel=\"Message Size [Bytes]\",\n",
    "    ylabel=\"Cumulative Probability\"\n",
    ")\n",
    "ax.legend()\n",
    "plt.show()\n",
    "fig.tight_layout(pad=0)\n",
    "fig.savefig(\"workload_dists.pdf\", dpi=600)"
   ]
  },
  {
   "cell_type": "code",
   "execution_count": null,
   "metadata": {},
   "outputs": [],
   "source": []
  }
 ]
}